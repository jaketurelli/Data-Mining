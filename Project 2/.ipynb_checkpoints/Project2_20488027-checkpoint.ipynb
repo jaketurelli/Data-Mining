{
 "cells": [
  {
   "cell_type": "code",
   "execution_count": 2,
   "metadata": {
    "collapsed": false
   },
   "outputs": [
    {
     "name": "stdout",
     "output_type": "stream",
     "text": [
      "7882 documents\n",
      "8 categories\n",
      "\n"
     ]
    }
   ],
   "source": [
    "from sklearn.datasets import fetch_20newsgroups\n",
    "categories = ['comp.sys.ibm.pc.hardware',\n",
    "              'comp.graphics', \n",
    "              'comp.sys.mac.hardware',\n",
    "              'comp.os.ms-windows.misc',\n",
    "              'rec.autos', \n",
    "              'rec.motorcycles',\n",
    "              'rec.sport.baseball', \n",
    "              'rec.sport.hockey']\n",
    "dataset = fetch_20newsgroups(subset='all',categories=categories,\n",
    "                                   shuffle=True, random_state=42)\n",
    "print(\"%d documents\" % len(dataset.data))\n",
    "print(\"%d categories\" % len(dataset.target_names))\n",
    "print()"
   ]
  },
  {
   "cell_type": "code",
   "execution_count": 3,
   "metadata": {
    "collapsed": true
   },
   "outputs": [],
   "source": [
    "# Convert a collection of raw documents to a matrix of TF-IDF features.\n",
    "# (Equivalent to CountVectorizer followed by TfidfTransformer)\n",
    "from sklearn.feature_extraction.text import TfidfVectorizer\n",
    "vect = TfidfVectorizer(min_df=3,stop_words='english')\n",
    "X_vect_tfidf = vect.fit_transform(dataset.data)"
   ]
  },
  {
   "cell_type": "code",
   "execution_count": 4,
   "metadata": {
    "collapsed": false
   },
   "outputs": [
    {
     "name": "stdout",
     "output_type": "stream",
     "text": [
      "(7882, 27768)\n"
     ]
    }
   ],
   "source": [
    "# ----------------------------------\n",
    "# Question 1\n",
    "# Report dimensions of the TF-IDF Matrix\n",
    "# ----------------------------------\n",
    "print(X_vect_tfidf.shape)"
   ]
  },
  {
   "cell_type": "code",
   "execution_count": 20,
   "metadata": {
    "collapsed": false
   },
   "outputs": [
    {
     "name": "stdout",
     "output_type": "stream",
     "text": [
      "true k: 8\n",
      "unique labels:\n",
      "[0 1 2 3 4 5 6 7]\n"
     ]
    }
   ],
   "source": [
    "import numpy as np\n",
    "labels = dataset.target\n",
    "true_k = np.unique(labels).shape[0]\n",
    "print(\"true k: %d\" % true_k)\n",
    "print('unique labels:')\n",
    "print(np.unique(labels))\n"
   ]
  },
  {
   "cell_type": "code",
   "execution_count": 14,
   "metadata": {
    "collapsed": false
   },
   "outputs": [
    {
     "name": "stdout",
     "output_type": "stream",
     "text": [
      "done in 322.664610s\n"
     ]
    }
   ],
   "source": [
    "from sklearn.cluster import KMeans\n",
    "from time import time\n",
    "\n",
    "t0 = time()\n",
    "km = KMeans(n_clusters=2, random_state=0, max_iter=1000, n_init=30)\n",
    "km.fit(X_vect_tfidf)\n",
    "print(\"done in %fs\" % (time() - t0))"
   ]
  },
  {
   "cell_type": "code",
   "execution_count": 21,
   "metadata": {
    "collapsed": false
   },
   "outputs": [
    {
     "name": "stdout",
     "output_type": "stream",
     "text": [
      "unique labels:\n",
      "[0 1 2 3 4 5 6 7]\n",
      "(2, 27768)\n",
      "[0 1]\n",
      "7733.995449994944\n"
     ]
    }
   ],
   "source": [
    "print('unique labels:')\n",
    "print(np.unique(labels))\n",
    "print(km.cluster_centers_.shape)\n",
    "print(np.unique(km.labels_))\n",
    "print(km.inertia_)"
   ]
  },
  {
   "cell_type": "code",
   "execution_count": 16,
   "metadata": {
    "collapsed": false
   },
   "outputs": [
    {
     "name": "stdout",
     "output_type": "stream",
     "text": [
      "Homogeneity:            0.203\n",
      "Completeness:           0.803\n",
      "V-measure:              0.324\n",
      "Adjusted Rand-Index:    0.113\n",
      "Silhouette Coefficient: 0.003\n"
     ]
    }
   ],
   "source": [
    "from sklearn import metrics\n",
    "print(\"Homogeneity:            %0.3f\" % metrics.homogeneity_score(labels, km.labels_))\n",
    "print(\"Completeness:           %0.3f\" % metrics.completeness_score(labels, km.labels_))\n",
    "print(\"V-measure:              %0.3f\" % metrics.v_measure_score(labels, km.labels_))\n",
    "print(\"Adjusted Rand-Index:    %.3f\"\n",
    "      % metrics.adjusted_rand_score(labels, km.labels_))\n",
    "print(\"Silhouette Coefficient: %0.3f\"\n",
    "      % metrics.silhouette_score(X_vect_tfidf, km.labels_, sample_size=1000))"
   ]
  },
  {
   "cell_type": "code",
   "execution_count": 106,
   "metadata": {
    "collapsed": false
   },
   "outputs": [
    {
     "name": "stdout",
     "output_type": "stream",
     "text": [
      "[[  1 972]\n",
      " [  0 985]\n",
      " [  3 979]\n",
      " [  0 963]\n",
      " [  1 989]\n",
      " [  1 995]\n",
      " [794 200]\n",
      " [922  77]]\n"
     ]
    }
   ],
   "source": [
    "# ----------------------------------\n",
    "# Question 2\n",
    "# Report Contingency Table, A\n",
    "# ----------------------------------\n",
    "ground_truth = np.array(labels)\n",
    "cluster_results = np.array(km.labels_)\n",
    "ni = len(np.unique(ground_truth))\n",
    "nj = len(np.unique(cluster_results))\n",
    "compareMat = ground_truth == cluster_results \n",
    "A=np.zeros((ni,nj), dtype=int)\n",
    "#print(ni)\n",
    "#print(nj)\n",
    "#print(A.shape)\n",
    "for i in range(ni):\n",
    "    for j in range(nj):\n",
    "        ind = (ground_truth==i) & (cluster_results==j)\n",
    "        A[i][j]=len(ground_truth[ind])\n",
    "        #print(ground_truth[ind])\n",
    "print(A)\n",
    "#print()\n",
    "#print(np.sum(A,axis=0))\n",
    "#print(np.sum(A,axis=1))\n",
    "#print(np.sum(np.sum(A,axis=0)))\n",
    "#print(np.sum(np.sum(A,axis=1)))"
   ]
  },
  {
   "cell_type": "code",
   "execution_count": 80,
   "metadata": {
    "collapsed": false
   },
   "outputs": [
    {
     "name": "stdout",
     "output_type": "stream",
     "text": [
      "[False  True False  True False False]\n"
     ]
    }
   ],
   "source": [
    "array1 = np.array([0,1,1,1,0,1])\n",
    "array2 = np.array([0,1,2,1,3,4])\n",
    "\n",
    "print((array1==array2) & (array1==1))\n"
   ]
  },
  {
   "cell_type": "code",
   "execution_count": null,
   "metadata": {
    "collapsed": true
   },
   "outputs": [],
   "source": []
  }
 ],
 "metadata": {
  "kernelspec": {
   "display_name": "Python [default]",
   "language": "python",
   "name": "python3"
  },
  "language_info": {
   "codemirror_mode": {
    "name": "ipython",
    "version": 3
   },
   "file_extension": ".py",
   "mimetype": "text/x-python",
   "name": "python",
   "nbconvert_exporter": "python",
   "pygments_lexer": "ipython3",
   "version": "3.6.0"
  }
 },
 "nbformat": 4,
 "nbformat_minor": 2
}
