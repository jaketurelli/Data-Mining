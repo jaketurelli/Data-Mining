{
 "cells": [
  {
   "cell_type": "markdown",
   "metadata": {},
   "source": [
    "# Project 3: Collaborative Filtering\n",
    "Jake Turelli | 4 May 2018 | UCLA Masters Program\n",
    "\n",
    "## Overview\n",
    "The two basic models for recommender systems work with two kinds of data: \n",
    "1. User-Item interactions such as ratings\n",
    "2. Attribute information about the users and items such as textual profiles or relevant keywords.\n",
    "\n",
    "Models that use type 1 data are referred to as collaborative filtering methods, whereas models that use type 2 data are referred to as content based methods. In this prjoect, we will build a recommendation system using collaboratiev filtering methods. \n",
    "\n",
    "## Collaborative Filtering Models\n",
    "Two collaborative filtering methods will be implemented and the performance analyzed: \n",
    "1. Neighborhood-based collaborative filtering\n",
    "2. Model-based collaborative filtering"
   ]
  },
  {
   "cell_type": "markdown",
   "metadata": {},
   "source": [
    "We will denote the ratings matrix, R which is an (m x n) matrix containing m users (rows) by n movies (cols). The entry of the matrix is the ratin gof user i for movie j and is denoted by rij. "
   ]
  },
  {
   "cell_type": "markdown",
   "metadata": {},
   "source": [
    "## MovieLens Dataset\n",
    "For this project, the MovieLens dataset is used and can be found at the following location: \n",
    "http://files.grouplens.org/datasets/movielens/ml-latest-small.zip\n"
   ]
  },
  {
   "cell_type": "markdown",
   "metadata": {},
   "source": [
    "### Extract CSV Data using Pandas\n",
    "Pandas library conveniently allows us to bring in the csv data as Dataframes."
   ]
  },
  {
   "cell_type": "code",
   "execution_count": 2,
   "metadata": {},
   "outputs": [
    {
     "name": "stdout",
     "output_type": "stream",
     "text": [
      "links:\n",
      "['movieId', 'imdbId', 'tmdbId']\n",
      "(9125, 3)\n",
      "--------------------\n",
      "movies:\n",
      "['movieId', 'title', 'genres']\n",
      "(9125, 3)\n",
      "--------------------\n",
      "ratings:\n",
      "['userId', 'movieId', 'rating', 'timestamp']\n",
      "(100004, 4)\n",
      "--------------------\n",
      "tags:\n",
      "['userId', 'movieId', 'tag', 'timestamp']\n",
      "(1296, 4)\n",
      "--------------------\n"
     ]
    }
   ],
   "source": [
    "import pandas as pd\n",
    "import os\n",
    "wdir = \"C:\\\\Users\\\\Kacy\\\\Documents\\\\Jake\\\\Jake Masters\\\\07 Data Mining\\\\Data-Mining\\\\Project 3\\\\ml-latest-small\"\n",
    "links   = pd.read_csv(os.path.join(wdir, \"links.csv\"))\n",
    "movies  = pd.read_csv(os.path.join(wdir, \"movies.csv\"))\n",
    "ratings = pd.read_csv(os.path.join(wdir, \"ratings.csv\"))\n",
    "tags    = pd.read_csv(os.path.join(wdir, \"tags.csv\"))\n",
    "print('links:')\n",
    "print(list(links))\n",
    "print(links.shape)\n",
    "#print(links[:3])\n",
    "print('-'*20)\n",
    "print('movies:')\n",
    "print(list(movies))\n",
    "print(movies.shape)\n",
    "#print(movies[:3])\n",
    "print('-'*20)\n",
    "print('ratings:')\n",
    "print(list(ratings))\n",
    "print(ratings.shape)\n",
    "#print(ratings[:3])\n",
    "print('-'*20)\n",
    "print('tags:')\n",
    "print(list(tags))\n",
    "print(tags.shape)\n",
    "#print(tags[:3])\n",
    "print('-'*20)"
   ]
  },
  {
   "cell_type": "markdown",
   "metadata": {
    "collapsed": true
   },
   "source": [
    "### Question 1\n",
    "Compute the sparsity of the movie rating dataset, where sparsity is defined by equation 1: \n",
    "\n",
    "Sparsity = Total number of available ratings / Total number of possible ratings\n"
   ]
  },
  {
   "cell_type": "code",
   "execution_count": 3,
   "metadata": {},
   "outputs": [
    {
     "name": "stdout",
     "output_type": "stream",
     "text": [
      "m users  = 1296\n",
      "n movies = 9125\n",
      "available ratings = 100004\n",
      "possible ratings  = 11826000\n",
      "Sparsity          = 0.008456\n"
     ]
    }
   ],
   "source": [
    "mUsers = tags.shape[0]\n",
    "nMovies = movies.shape[0]\n",
    "available = ratings.shape[0]\n",
    "possible = mUsers*nMovies\n",
    "sparsity = available/possible\n",
    "\n",
    "print('m users  = %d'% mUsers)\n",
    "print('n movies = %d'% nMovies)\n",
    "print('available ratings = %d' % available)\n",
    "print('possible ratings  = %d' % possible)\n",
    "print('Sparsity          = %f' % sparsity )"
   ]
  },
  {
   "cell_type": "markdown",
   "metadata": {},
   "source": [
    "### Question 2\n",
    "Plot a histogram showing the frequency of the rating values. To be specific, bin the rating values into intervals of width 0.5 and use the binned rating values as the horizontal axis. Count the number of entries in the ratings matrix R with rating values in the binned intervals and use this count as the vertical axis. Briefly comment on the shape of the histogram."
   ]
  },
  {
   "cell_type": "code",
   "execution_count": 47,
   "metadata": {},
   "outputs": [
    {
     "name": "stdout",
     "output_type": "stream",
     "text": [
      "max rating = 5.000000\n",
      "min rating = 0.500000\n",
      "unique ratings:\n",
      "[ 0.5  1.   1.5  2.   2.5  3.   3.5  4.   4.5  5. ]\n"
     ]
    },
    {
     "data": {
      "image/png": "[encoded data removed]",
      "text/plain": [
       "<matplotlib.figure.Figure at 0xea35b0f198>"
      ]
     },
     "metadata": {},
     "output_type": "display_data"
    }
   ],
   "source": [
    "import numpy as np\n",
    "from matplotlib import pyplot as plt\n",
    "#print(ratings[:20])\n",
    "print('max rating = %f' % np.max(ratings.rating))\n",
    "print('min rating = %f' % np.min(ratings.rating))\n",
    "unique_ratings = np.unique(ratings.rating)\n",
    "print('unique ratings:')\n",
    "print(unique_ratings)\n",
    "bin_range = np.arange(np.min(unique_ratings)-.25, np.max(unique_ratings) + 0.75, 0.5)\n",
    "[hist,bins] = np.histogram(ratings.rating, bins=bin_range)\n",
    "plt.bar(unique_ratings,hist, width = 0.4)\n",
    "plt.title('Histogram: Frequency of Rating Values')\n",
    "plt.xticks(unique_ratings)\n",
    "plt.xlabel('Rating')\n",
    "plt.ylabel('Frequency of Rating')\n",
    "plt.show()"
   ]
  },
  {
   "cell_type": "markdown",
   "metadata": {},
   "source": [
    "As we can see, the histogram is skewed towards higher ratings, with a clear dominant rating of 4.0. Furthermore, frequency of integer ratings are significantly higher than half ratings. "
   ]
  },
  {
   "cell_type": "markdown",
   "metadata": {},
   "source": [
    "### Question 3\n",
    "Plot the distribution of ratings among movies. "
   ]
  },
  {
   "cell_type": "code",
   "execution_count": 69,
   "metadata": {},
   "outputs": [],
   "source": [
    "movie_ratings_freq = np.zeros((nMovies,1))\n",
    "\n",
    "for i in range(nMovies):\n",
    "    ind = ratings.movieId == movies.movieId[i]\n",
    "    movie_ratings_freq[i] = len(ratings.movieId[ind])"
   ]
  },
  {
   "cell_type": "code",
   "execution_count": 88,
   "metadata": {},
   "outputs": [
    {
     "data": {
      "image/png": "[encoded data removed]",
      "text/plain": [
       "<matplotlib.figure.Figure at 0xea36939f98>"
      ]
     },
     "metadata": {},
     "output_type": "display_data"
    },
    {
     "data": {
      "image/png": "[encoded data removed]",
      "text/plain": [
       "<matplotlib.figure.Figure at 0xea37c5cef0>"
      ]
     },
     "metadata": {},
     "output_type": "display_data"
    }
   ],
   "source": [
    "ind_sorted = np.flipud(np.argsort(movie_ratings_freq,axis=None).T)\n",
    "movie_ratings_freq_sort = movie_ratings_freq[ind_sorted]\n",
    "#movie_id_sorted = movies.movieId[ind_sorted]\n",
    "plt.plot(movies.movieId,movie_ratings_freq_sort)\n",
    "plt.title('Decreasing Frequency of Movie Ratings')\n",
    "plt.xlabel('Movies (Decreasing Frequency - Not Index)')\n",
    "plt.ylabel('Frequency of Ratings')\n",
    "plt.grid()\n",
    "plt.show()\n",
    "\n",
    "plt.plot(movies.movieId,movie_ratings_freq_sort)\n",
    "plt.title('Decreasing Frequency of Movie Ratings')\n",
    "plt.xlabel('Movies (Decreasing Frequency - Not Index)')\n",
    "plt.ylabel('Frequency of Ratings')\n",
    "plt.grid()\n",
    "plt.xlim((-10,2000))\n",
    "plt.show()"
   ]
  },
  {
   "cell_type": "markdown",
   "metadata": {},
   "source": [
    "### Question 4\n",
    "Plot the distribution of ratings among users."
   ]
  },
  {
   "cell_type": "code",
   "execution_count": null,
   "metadata": {
    "collapsed": true
   },
   "outputs": [],
   "source": [
    "user_ratings_freq = np.zeros((mUsers,1))\n",
    "\n",
    "for i in range(mUsers):\n",
    "    ind = ratings.movieId == movies.movieId[i]\n",
    "    movie_ratings_freq[i] = len(ratings.movieId[ind])\n",
    "ratings"
   ]
  }
 ],
 "metadata": {
  "kernelspec": {
   "display_name": "Python 3",
   "language": "python",
   "name": "python3"
  }
 },
 "nbformat": 4,
 "nbformat_minor": 2
}
